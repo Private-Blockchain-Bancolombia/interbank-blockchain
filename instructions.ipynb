{
 "cells": [
  {
   "cell_type": "code",
   "execution_count": null,
   "metadata": {
    "vscode": {
     "languageId": "shellscript"
    }
   },
   "outputs": [],
   "source": [
    "# Test the transaction endpoint\n",
    "\n",
    "curl -X POST -H \"Content-Type: application/json\" -d '{\"amount\":100}' http://localhost:5000/transaction"
   ]
  }
 ],
 "metadata": {
  "language_info": {
   "name": "python"
  }
 },
 "nbformat": 4,
 "nbformat_minor": 2
}
